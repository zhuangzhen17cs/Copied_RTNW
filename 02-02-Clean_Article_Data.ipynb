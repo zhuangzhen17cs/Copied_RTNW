{
 "cells": [
  {
   "cell_type": "markdown",
   "metadata": {},
   "source": [
    "# 2.2 Clean Article Data\n",
    "This notebook cleans the article data in preparation for modeling. The ultimate goal is to match cleaned articles to the products based on their provided data."
   ]
  },
  {
   "cell_type": "code",
   "execution_count": 3,
   "metadata": {},
   "outputs": [],
   "source": [
    "import json\n",
    "import pandas as pd\n",
    "import re\n",
    "import logging\n",
    "from datetime import datetime"
   ]
  },
  {
   "cell_type": "markdown",
   "metadata": {},
   "source": [
    "#### Set up logging"
   ]
  },
  {
   "cell_type": "code",
   "execution_count": 4,
   "metadata": {},
   "outputs": [],
   "source": [
    "logging.basicConfig(level=logging.INFO, format='%(asctime)s - %(levelname)s - %(message)s')"
   ]
  },
  {
   "cell_type": "markdown",
   "metadata": {},
   "source": [
    "#### Load data"
   ]
  },
  {
   "cell_type": "code",
   "execution_count": 5,
   "metadata": {},
   "outputs": [],
   "source": [
    "def load_raw_data():\n",
    "    with open('./intermediate_data/Scraped_Article_Raw_Data.json', 'r', encoding='utf-8') as f:\n",
    "        raw_data = json.load(f)\n",
    "    logging.info(f\"Loaded {len(raw_data)} articles from file\")\n",
    "    return raw_data"
   ]
  },
  {
   "cell_type": "markdown",
   "metadata": {},
   "source": [
    "#### Remove unwanted information from text"
   ]
  },
  {
   "cell_type": "code",
   "execution_count": 6,
   "metadata": {},
   "outputs": [],
   "source": [
    "def clean_text(text):\n",
    "    \n",
    "    if not text or pd.isna(text):\n",
    "        return \"\"\n",
    "    text = str(text)  # Convert to string\n",
    "    text = re.sub(r'\\s+', ' ', text).strip() # Remove extra whitespace and normalize\n",
    "    text = re.sub(r'\\S+@\\S+', '', text) # Remove email addresses\n",
    "    # Remove URLs\n",
    "    text = re.sub(r'http[s]?://(?:[a-zA-Z]|[0-9]|[$-_@.&+]|[!*\\\\(\\\\),]|(?:%[0-9a-fA-F][0-9a-fA-F]))+', '', text)\n",
    "    # Remove common web artifacts\n",
    "    text = re.sub(r'Cookie Policy|Privacy Policy|Terms of Service', '', text, flags=re.IGNORECASE)\n",
    "    text = re.sub(r'Subscribe|Newsletter|Advertisement', '', text, flags=re.IGNORECASE)\n",
    "    text = re.sub(r'Share this article|Follow us on', '', text, flags=re.IGNORECASE)\n",
    "    # Remove excessive punctuation\n",
    "    text = re.sub(r'[.]{3,}', '...', text)\n",
    "    text = re.sub(r'[-]{3,}', '---', text)\n",
    "    \n",
    "    return text.strip()"
   ]
  },
  {
   "cell_type": "markdown",
   "metadata": {},
   "source": [
    "#### Clean all fields of an article"
   ]
  },
  {
   "cell_type": "code",
   "execution_count": 7,
   "metadata": {},
   "outputs": [],
   "source": [
    "def clean_article_data(article):\n",
    "    cleaned_article = {}\n",
    "    cleaned_article['title'] = clean_text(article.get('title', ''))\n",
    "    cleaned_article['source'] = clean_text(article.get('source', ''))\n",
    "    cleaned_article['date'] = article.get('date', '')\n",
    "    cleaned_article['link'] = article.get('link', '')\n",
    "    cleaned_article['text'] = clean_text(article.get('text', ''))\n",
    "    return cleaned_article"
   ]
  },
  {
   "cell_type": "markdown",
   "metadata": {},
   "source": [
    "#### Clean all article in the dataset"
   ]
  },
  {
   "cell_type": "code",
   "execution_count": 8,
   "metadata": {},
   "outputs": [],
   "source": [
    "def clean_article_dataset(raw_data):\n",
    "    \n",
    "    if not raw_data:\n",
    "        logging.error(\"No data provided for cleaning\")\n",
    "        return None\n",
    "    cleaned_articles = []\n",
    "    for i, article in enumerate(raw_data):\n",
    "        try:\n",
    "            cleaned_article = clean_article_data(article)\n",
    "            cleaned_articles.append(cleaned_article)\n",
    "            if (i + 1) % 50 == 0:\n",
    "                logging.info(f\"Cleaned {i + 1}/{len(raw_data)} articles\") \n",
    "        except Exception as e:\n",
    "            logging.error(f\"Error cleaning article {i + 1}: {str(e)}\")\n",
    "            continue\n",
    "    \n",
    "    return cleaned_articles"
   ]
  },
  {
   "cell_type": "markdown",
   "metadata": {},
   "source": [
    "### Clean and save articles data"
   ]
  },
  {
   "cell_type": "code",
   "execution_count": 9,
   "metadata": {},
   "outputs": [
    {
     "name": "stderr",
     "output_type": "stream",
     "text": [
      "2025-06-11 15:01:15,619 - INFO - Loaded 30 articles from file\n"
     ]
    }
   ],
   "source": [
    "raw_article_data = load_raw_data()\n",
    "cleaned_article_data = clean_article_dataset(raw_article_data)\n",
    "filename = './intermediate_data/Cleaned_Article_Data.json'\n",
    "with open(filename, 'w', encoding='utf-8') as f:\n",
    "    json.dump(cleaned_article_data, f, indent=2, ensure_ascii=False)\n"
   ]
  }
 ],
 "metadata": {
  "kernelspec": {
   "display_name": "Python (recommendation_libraries)",
   "language": "python",
   "name": "recommendation_libraries"
  },
  "language_info": {
   "codemirror_mode": {
    "name": "ipython",
    "version": 3
   },
   "file_extension": ".py",
   "mimetype": "text/x-python",
   "name": "python",
   "nbconvert_exporter": "python",
   "pygments_lexer": "ipython3",
   "version": "3.11.11"
  }
 },
 "nbformat": 4,
 "nbformat_minor": 2
}
