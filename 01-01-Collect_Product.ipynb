{
 "cells": [
  {
   "cell_type": "markdown",
   "metadata": {},
   "source": [
    "## 1.1 Collect Products "
   ]
  },
  {
   "cell_type": "markdown",
   "metadata": {},
   "source": [
    "We begin by collecting product category information from DigiKey (https://www.digikey.com/) website. This information will be used to match with relevant articles and generate insightful analysis."
   ]
  },
  {
   "cell_type": "code",
   "execution_count": 1,
   "metadata": {},
   "outputs": [],
   "source": [
    "import requests\n",
    "from bs4 import BeautifulSoup\n",
    "import re\n",
    "import time\n",
    "import json"
   ]
  },
  {
   "cell_type": "markdown",
   "metadata": {},
   "source": [
    "#### Target site url"
   ]
  },
  {
   "cell_type": "code",
   "execution_count": 2,
   "metadata": {},
   "outputs": [],
   "source": [
    "BASE_URL = \"https://www.digikey.com\""
   ]
  },
  {
   "cell_type": "markdown",
   "metadata": {},
   "source": [
    "#### Headers to parse site"
   ]
  },
  {
   "cell_type": "code",
   "execution_count": 3,
   "metadata": {},
   "outputs": [],
   "source": [
    "# Headers used to parse sites with barriers\n",
    "HEADERS = {\n",
    "    \"User-Agent\": \"Mozilla/5.0 (Windows NT 10.0; Win64; x64) AppleWebKit/537.36 (KHTML, like Gecko) Chrome/114.0.0.0 Safari/537.36\",\n",
    "    \"Accept-Language\": \"en-US,en;q=0.9\",\n",
    "    \"Accept-Encoding\": \"gzip, deflate, br\",\n",
    "    \"Accept\": \"text/html,application/xhtml+xml,application/xml;q=0.9,image/webp,image/apng,*/*;q=0.8\",\n",
    "    \"Connection\": \"keep-alive\",\n",
    "    \"Referer\": BASE_URL,\n",
    "}"
   ]
  },
  {
   "cell_type": "markdown",
   "metadata": {},
   "source": [
    "#### Assign listed main categories for each product category"
   ]
  },
  {
   "cell_type": "code",
   "execution_count": 4,
   "metadata": {},
   "outputs": [],
   "source": [
    "def determine_main_category(name):\n",
    "    name_lower = name.lower()\n",
    "    if any(term in name_lower for term in ['anti-static', 'esd', 'clean room']):\n",
    "        return 'Anti-Static, ESD, Clean Room Products'\n",
    "    elif any(term in name_lower for term in ['audio', 'microphone', 'speaker', 'amplifier']):\n",
    "        return 'Audio Products'\n",
    "    elif any(term in name_lower for term in ['battery', 'batteries']):\n",
    "        return 'Battery Products'\n",
    "    elif any(term in name_lower for term in ['cable', 'wire', 'connector']):\n",
    "        return 'Cables & Connectors'\n",
    "    elif any(term in name_lower for term in ['capacitor']):\n",
    "        return 'Capacitors'\n",
    "    else:\n",
    "        return 'Other'"
   ]
  },
  {
   "cell_type": "markdown",
   "metadata": {},
   "source": [
    "#### Parse source json for product information"
   ]
  },
  {
   "cell_type": "code",
   "execution_count": 5,
   "metadata": {},
   "outputs": [],
   "source": [
    "def parse_json_data(html_content):\n",
    "    categories = []\n",
    "    pattern = r'\"label\":\"([^\"]+)\",\"productCount\":\"([^\"]+)\",\"url\":\"([^\"]+)\"'\n",
    "    matches = re.findall(pattern, html_content)\n",
    "    \n",
    "    for label, count_str, url in matches:\n",
    "        if url.startswith('/en/products/') and count_str.replace(',', '').isdigit():\n",
    "            count = int(count_str.replace(',', ''))\n",
    "            if count > 0:\n",
    "                categories.append({\n",
    "                    'name': label,\n",
    "                    'url': BASE_URL + url,\n",
    "                    'category': determine_main_category(label),\n",
    "                    'Products': count\n",
    "                })\n",
    "    return categories"
   ]
  },
  {
   "cell_type": "markdown",
   "metadata": {},
   "source": [
    "#### Scrape product categories"
   ]
  },
  {
   "cell_type": "code",
   "execution_count": 6,
   "metadata": {},
   "outputs": [],
   "source": [
    "def scrape_main_categories():\n",
    "    try:\n",
    "        response = requests.get(\"https://www.digikey.com/en/products\", headers=HEADERS)\n",
    "        response.raise_for_status()\n",
    "        categories = parse_json_data(response.text)\n",
    "        # Remove duplicates by URL\n",
    "        seen = set()\n",
    "        unique_categories = []\n",
    "        for cat in categories:\n",
    "            if cat['url'] not in seen:\n",
    "                seen.add(cat['url'])\n",
    "                unique_categories.append(cat)\n",
    "        return unique_categories\n",
    "    \n",
    "    except Exception:\n",
    "        return []"
   ]
  },
  {
   "cell_type": "markdown",
   "metadata": {},
   "source": [
    "### Run and Save Product List"
   ]
  },
  {
   "cell_type": "markdown",
   "metadata": {},
   "source": [
    "The saved file consists of raw product information extracted from DigiKey website. This file will be used to clean and structure the product list further."
   ]
  },
  {
   "cell_type": "code",
   "execution_count": 7,
   "metadata": {},
   "outputs": [],
   "source": [
    "# Run method\n",
    "categories = scrape_main_categories()\n",
    "# Save output\n",
    "with open('./intermediate_data/Products_List_Raw.json', 'w') as f:\n",
    "    json.dump(categories, f, indent=2)\n"
   ]
  }
 ],
 "metadata": {
  "kernelspec": {
   "display_name": "Python (recommendation_libraries)",
   "language": "python",
   "name": "recommendation_libraries"
  },
  "language_info": {
   "codemirror_mode": {
    "name": "ipython",
    "version": 3
   },
   "file_extension": ".py",
   "mimetype": "text/x-python",
   "name": "python",
   "nbconvert_exporter": "python",
   "pygments_lexer": "ipython3",
   "version": "3.11.11"
  }
 },
 "nbformat": 4,
 "nbformat_minor": 2
}
